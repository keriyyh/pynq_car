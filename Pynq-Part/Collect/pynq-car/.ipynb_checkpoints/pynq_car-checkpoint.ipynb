{
 "cells": [
  {
   "cell_type": "markdown",
   "metadata": {},
   "source": [
    "# PYNQ Car in Programmable Logic (PL) - Application Notebook\n",
    "\n",
    "##### This reference design illustrates how to run a Canny Edge IP on the **Programmable Logic (PL)** using Jupyter Notebooks and Python\n",
    "\n",
    "\n",
    "<img src=\"./images/resize_bd.png\" width=\"800\" height=\"650\"/>\n",
    "\n",
    "## Import libraries"
   ]
  },
  {
   "cell_type": "code",
   "execution_count": 12,
   "metadata": {},
   "outputs": [],
   "source": [
    "def pwm0(pulse_width, high_width):\n",
    "    timer0.write(0x04,pulse_width) #Pulse Width, 100M/100K = 1000\n",
    "    timer0.write(0x14,high_width) #Pulse High Width\n",
    "\n",
    "def pwm0_start():\n",
    "    timer0.write(0x00,0b000000000000) #Timer 0 be set to Generate mode\n",
    "    timer0.write(0x10,0b000000000000) #Timer 1 be set to Generate mode\n",
    "    timer0.write(0x00,0b001000000000) #enable PWM mode\n",
    "    timer0.write(0x10,0b001000000000) #enable PWM mode\n",
    "    timer0.write(0x00,0b001000000110) #enable GenerateOut signals, down mode\n",
    "    timer0.write(0x10,0b001000000110) #enable GenerateOut signals, down mode\n",
    "    timer0.write(0x10,0b001010010110) #enable PWM\n",
    "    timer0.write(0x00,0b000000010110) #enable PWM\n",
    "    timer0.write(0x00,0b011010010110)\n",
    "\n",
    "def pwm0_stop():\n",
    "    timer0.write(0x00,0b000000010110)"
   ]
  },
  {
   "cell_type": "code",
   "execution_count": 2,
   "metadata": {},
   "outputs": [],
   "source": [
    "def pwm1(pulse_width, high_width):\n",
    "    timer1.write(0x04,pulse_width) #Pulse Width, 100M/100K = 1000\n",
    "    timer1.write(0x14,high_width) #Pulse High Width\n",
    "\n",
    "\n",
    "def pwm1_start():\n",
    "    timer1.write(0x00,0b000000000000) #Timer 0 be set to Generate mode\n",
    "    timer1.write(0x10,0b000000000000) #Timer 1 be set to Generate mode\n",
    "    timer1.write(0x00,0b001000000000) #enable PWM mode\n",
    "    timer1.write(0x10,0b001000000000) #enable PWM mode\n",
    "    timer1.write(0x00,0b001000000110) #enable GenerateOut signals, down mode\n",
    "    timer1.write(0x10,0b001000000110) #enable GenerateOut signals, down mode\n",
    "    timer1.write(0x10,0b001010010110) #enable PWM\n",
    "    timer1.write(0x00,0b000000010110) #enable PWM\n",
    "    timer1.write(0x00,0b011010010110)\n",
    "\n",
    "def pwm1_stop():\n",
    "    timer1.write(0x00,0b000000010110)"
   ]
  },
  {
   "cell_type": "code",
   "execution_count": 27,
   "metadata": {},
   "outputs": [],
   "source": [
    "def pwm1(pulse_width, high_width):\n",
    "    timer1.write(0x04,pulse_width) #Pulse Width, 100M/100K = 1000\n",
    "    timer1.write(0x14,high_width) #Pulse High Width\n",
    "\n",
    "\n",
    "def pwm1_start():\n",
    "#    timer1.write(0x00,0b000000000000) #Timer 0 be set to Generate mode\n",
    "#    timer1.write(0x10,0b000000000000) #Timer 1 be set to Generate mode\n",
    "#    timer1.write(0x00,0b001000000000) #enable PWM mode\n",
    "#    timer1.write(0x10,0b001000000000) #enable PWM mode\n",
    "#    timer1.write(0x00,0b001000000110) #enable GenerateOut signals, down mode\n",
    "#    timer1.write(0x10,0b001000000110) #enable GenerateOut signals, down mode\n",
    "    timer1.write(0x10,0b001010010110) #enable PWM\n",
    "#    timer1.write(0x00,0b000000010110) #enable PWM\n",
    "    timer1.write(0x00,0b011010010110)\n",
    "\n",
    "def pwm1_stop():\n",
    "    timer1.write(0x00,0b000000010110)"
   ]
  },
  {
   "cell_type": "code",
   "execution_count": 14,
   "metadata": {},
   "outputs": [],
   "source": [
    "#from PIL import Image\n",
    "import numpy as np\n",
    "#from IPython.display import display\n",
    "from pynq import Xlnk\n",
    "from pynq import Overlay\n",
    "import time"
   ]
  },
  {
   "cell_type": "markdown",
   "metadata": {},
   "source": [
    "## Download the Image Processing IP bitstream"
   ]
  },
  {
   "cell_type": "code",
   "execution_count": 15,
   "metadata": {},
   "outputs": [],
   "source": [
    "pynq_car = Overlay(\"./PYNQ-Car.bit\")"
   ]
  },
  {
   "cell_type": "code",
   "execution_count": 16,
   "metadata": {},
   "outputs": [],
   "source": [
    "leds = pynq_car.axi_gpio_0\n",
    "buttons = pynq_car.axi_gpio_1"
   ]
  },
  {
   "cell_type": "code",
   "execution_count": 17,
   "metadata": {},
   "outputs": [],
   "source": [
    "leds.write(0x04,0x00)\n",
    "leds.write(0x00,0x0F)"
   ]
  },
  {
   "cell_type": "code",
   "execution_count": 18,
   "metadata": {},
   "outputs": [
    {
     "data": {
      "text/plain": [
       "0"
      ]
     },
     "execution_count": 18,
     "metadata": {},
     "output_type": "execute_result"
    }
   ],
   "source": [
    "buttons.write(0x04,0x0F)\n",
    "button_status= buttons.read(0x00)\n",
    "button_status"
   ]
  },
  {
   "cell_type": "code",
   "execution_count": 19,
   "metadata": {},
   "outputs": [],
   "source": [
    "timer0 = pynq_car.axi_timer_0"
   ]
  },
  {
   "cell_type": "code",
   "execution_count": 20,
   "metadata": {},
   "outputs": [],
   "source": [
    "timer1 = pynq_car.axi_timer_1"
   ]
  },
  {
   "cell_type": "code",
   "execution_count": 21,
   "metadata": {},
   "outputs": [],
   "source": [
    "pwm0(100000, 50000)"
   ]
  },
  {
   "cell_type": "code",
   "execution_count": 22,
   "metadata": {},
   "outputs": [],
   "source": [
    "pwm0_start()"
   ]
  },
  {
   "cell_type": "code",
   "execution_count": 23,
   "metadata": {},
   "outputs": [],
   "source": [
    "#5.0V: 100000 1ms, 150000 1.5ms, 200000 2ms\n",
    "#3.3V: 151515 1ms, 227272 1.5ms, 303030 2ms\n",
    "pwm1(2000000, 100000)"
   ]
  },
  {
   "cell_type": "code",
   "execution_count": 24,
   "metadata": {},
   "outputs": [],
   "source": [
    "pwm1_start()"
   ]
  },
  {
   "cell_type": "code",
   "execution_count": 28,
   "metadata": {},
   "outputs": [],
   "source": [
    "for r in range(1):\n",
    "    for i in range(100):\n",
    "        pwm1(2000000, int(100000 + i*300))\n",
    "        time.sleep(0.01)\n",
    "    for i in range(100):\n",
    "        pwm1(2000000, int(130000 - i*300))\n",
    "        time.sleep(0.01)\n",
    "    for i in range(100):\n",
    "        pwm1(2000000, int(100000 - i*300))\n",
    "        time.sleep(0.01)\n",
    "    for i in range(100):\n",
    "        pwm1(2000000, int(70000 + i*300))\n",
    "        time.sleep(0.01)"
   ]
  },
  {
   "cell_type": "code",
   "execution_count": 98,
   "metadata": {},
   "outputs": [],
   "source": [
    "pwm1(2000000, 130000)"
   ]
  },
  {
   "cell_type": "code",
   "execution_count": 40,
   "metadata": {},
   "outputs": [],
   "source": [
    "for r in range(1):\n",
    "    for i in range(100):\n",
    "        pwm0(66666, int(33333 + i*300))\n",
    "        time.sleep(0.05)\n",
    "    for i in range(100):\n",
    "        pwm0(66666, int(63333 - i*300))\n",
    "        time.sleep(0.05)\n",
    "    for i in range(100):\n",
    "        pwm0(66666, int(33333 - i*300))\n",
    "        time.sleep(0.05)\n",
    "    for i in range(100):\n",
    "        pwm0(66666, int(3333 + i*300))\n",
    "        time.sleep(0.05)"
   ]
  },
  {
   "cell_type": "code",
   "execution_count": 15,
   "metadata": {},
   "outputs": [],
   "source": [
    "for r in range(10):\n",
    "#    for i in range(100):\n",
    "#        pwm0(666566, int(333333 + i*3000))\n",
    "#        time.sleep(0.05)\n",
    "#    for i in range(100):\n",
    "#        pwm0(666666, int(633333 - i*3000))\n",
    "#        time.sleep(0.05)\n",
    "#    for i in range(100):\n",
    "#        pwm0(666666, int(333333 - i*3000))\n",
    "#        time.sleep(0.05)\n",
    "    for i in range(100):\n",
    "        pwm0(666666, int(33333 + i*3000))\n",
    "        time.sleep(0.05)"
   ]
  },
  {
   "cell_type": "code",
   "execution_count": 25,
   "metadata": {},
   "outputs": [],
   "source": [
    "pwm0(666666, 150000)"
   ]
  },
  {
   "cell_type": "code",
   "execution_count": 93,
   "metadata": {},
   "outputs": [],
   "source": [
    "pwm0(500000, 130000)"
   ]
  },
  {
   "cell_type": "code",
   "execution_count": 16,
   "metadata": {},
   "outputs": [],
   "source": [
    "import dash\n",
    "import dash_daq as daq\n",
    "import dash_html_components as html\n",
    "\n",
    "external_stylesheets = ['https://codepen.io/chriddyp/pen/bWLwgP.css']\n",
    "\n",
    "app = dash.Dash(__name__, external_stylesheets=external_stylesheets)\n",
    "\n",
    "app.layout = html.Div([\n",
    "    daq.Joystick(\n",
    "        id='my-joystick',\n",
    "        label=\"Default\",\n",
    "        angle=0\n",
    "    ),\n",
    "    html.Div(id='joystick-output')\n",
    "])\n",
    "\n",
    "\n",
    "@app.callback(\n",
    "    dash.dependencies.Output('joystick-output', 'children'),\n",
    "    [dash.dependencies.Input('my-joystick', 'angle'),\n",
    "     dash.dependencies.Input('my-joystick', 'force')])\n",
    "def update_output(angle, force):\n",
    "#    if(force <= 1):\n",
    "#        pwm0_stop()\n",
    "#    else:\n",
    "#        pwm0_start()\n",
    "        \n",
    "    pwm0_start()\n",
    "        \n",
    "    if(angle<=1):\n",
    "        pwm1_stop()\n",
    "    else:\n",
    "        pwm1_start()\n",
    "    \n",
    "    if(force>=10):\n",
    "        speed=800000\n",
    "    else:\n",
    "        speed=80000*force\n",
    "        \n",
    "    pwm0(2000000, int(speed + 1000000))   \n",
    "#    pwm1(2000000, int(int(angle - 180)*2777 + 1000000))\n",
    "    pwm1(2000000, int(angle*2777 + 1000000))\n",
    "    \n",
    "    return ['Angle is {}'.format(angle),\n",
    "            html.Br(),\n",
    "            'Force is {}'.format(force)]"
   ]
  },
  {
   "cell_type": "code",
   "execution_count": null,
   "metadata": {},
   "outputs": [],
   "source": [
    "import logging\n",
    "def removeLog(boo=True):\n",
    "    log = logging.getLogger('werkzeug')\n",
    "    log.setLevel(logging.ERROR)\n",
    "removeLog()"
   ]
  },
  {
   "cell_type": "code",
   "execution_count": null,
   "metadata": {},
   "outputs": [],
   "source": [
    "def runServer():\n",
    "    global app, viewer\n",
    "    app.run_server(debug=False, # 必须为False，或会报错，默认为False\n",
    "                   port=8050, # 端口8050为默认端口\n",
    "                   host='0.0.0.0') # localhost(127.0.0.1)为默认，但是在PYNQ-Z2上，必须转化为0.0.0.0，否则无法访问网页\n",
    "runServer() "
   ]
  },
  {
   "cell_type": "code",
   "execution_count": null,
   "metadata": {},
   "outputs": [],
   "source": []
  }
 ],
 "metadata": {
  "kernelspec": {
   "display_name": "Python 3",
   "language": "python",
   "name": "python3"
  },
  "language_info": {
   "codemirror_mode": {
    "name": "ipython",
    "version": 3
   },
   "file_extension": ".py",
   "mimetype": "text/x-python",
   "name": "python",
   "nbconvert_exporter": "python",
   "pygments_lexer": "ipython3",
   "version": "3.6.5"
  }
 },
 "nbformat": 4,
 "nbformat_minor": 2
}
